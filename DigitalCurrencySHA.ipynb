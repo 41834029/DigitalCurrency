{
 "cells": [
  {
   "cell_type": "markdown",
   "metadata": {},
   "source": [
    "# 金融科技-区块链-HASH初探"
   ]
  },
  {
   "cell_type": "markdown",
   "metadata": {},
   "source": [
    "- 什么是加密\n",
    "- HASH是什么\n",
    "- HASH的特征"
   ]
  },
  {
   "cell_type": "markdown",
   "metadata": {},
   "source": [
    "## 理解HASH的特性"
   ]
  },
  {
   "cell_type": "markdown",
   "metadata": {},
   "source": [
    "\n",
    "- 正向快速\n",
    "- 逆向困难\n",
    "- 输入敏感\n",
    "- 冲突避免"
   ]
  },
  {
   "cell_type": "markdown",
   "metadata": {},
   "source": [
    "# 练习演示"
   ]
  },
  {
   "cell_type": "markdown",
   "metadata": {},
   "source": [
    "常见加密hash函数：\n",
    "\n",
    "-md5 -SHA1/256/512 -HMAC"
   ]
  },
  {
   "cell_type": "code",
   "execution_count": 1,
   "metadata": {},
   "outputs": [],
   "source": [
    "import hashlib "
   ]
  },
  {
   "cell_type": "markdown",
   "metadata": {},
   "source": [
    "1. 对第一段文字进行HASH加密"
   ]
  },
  {
   "cell_type": "code",
   "execution_count": 2,
   "metadata": {},
   "outputs": [],
   "source": [
    "# 修改\"\"内的文字内容\n",
    "data1 = '第一段交易内容'\n"
   ]
  },
  {
   "cell_type": "code",
   "execution_count": 3,
   "metadata": {},
   "outputs": [
    {
     "name": "stdout",
     "output_type": "stream",
     "text": [
      "df3199854f8ca82bf2ad30a9402a94cf23a9a8cb\n"
     ]
    }
   ],
   "source": [
    "hash1 = hashlib.sha1()\n",
    "hash1.update((data1).encode('utf-8'))\n",
    "print(hash1.hexdigest())"
   ]
  },
  {
   "cell_type": "markdown",
   "metadata": {},
   "source": [
    "2. 修改过的交易内容"
   ]
  },
  {
   "cell_type": "code",
   "execution_count": 4,
   "metadata": {},
   "outputs": [],
   "source": [
    "data1 = '第一段交易内容.'"
   ]
  },
  {
   "cell_type": "markdown",
   "metadata": {},
   "source": [
    "大家看下文字的区别，HASH值会有变化吗？"
   ]
  },
  {
   "cell_type": "code",
   "execution_count": 5,
   "metadata": {},
   "outputs": [
    {
     "name": "stdout",
     "output_type": "stream",
     "text": [
      "811c8bc62141050f83438cdeff355b0b268683de\n"
     ]
    }
   ],
   "source": [
    "#hash1 = hashlib.sha1()\n",
    "hash1.update((data1).encode('utf-8'))\n",
    "print(hash1.hexdigest())"
   ]
  },
  {
   "cell_type": "code",
   "execution_count": 8,
   "metadata": {},
   "outputs": [],
   "source": [
    "data2 = 'hash1.hexdigest()'+'第二段交易内容'"
   ]
  },
  {
   "cell_type": "code",
   "execution_count": 9,
   "metadata": {},
   "outputs": [
    {
     "name": "stdout",
     "output_type": "stream",
     "text": [
      "71a59de680e90559d62b0cececc447f14582b320\n"
     ]
    }
   ],
   "source": [
    "hash1.update((data1).encode('utf-8'))\n",
    "print(hash1.hexdigest())"
   ]
  },
  {
   "cell_type": "markdown",
   "metadata": {},
   "source": [
    "- 大家试着篡改一下第一段交易内容，看data2的哈希值的变化？"
   ]
  },
  {
   "cell_type": "code",
   "execution_count": null,
   "metadata": {},
   "outputs": [],
   "source": []
  }
 ],
 "metadata": {
  "kernelspec": {
   "display_name": "Python 2",
   "language": "python",
   "name": "python2"
  },
  "language_info": {
   "codemirror_mode": {
    "name": "ipython",
    "version": 3
   },
   "file_extension": ".py",
   "mimetype": "text/x-python",
   "name": "python",
   "nbconvert_exporter": "python",
   "pygments_lexer": "ipython3",
   "version": "3.6.5"
  }
 },
 "nbformat": 4,
 "nbformat_minor": 2
}
